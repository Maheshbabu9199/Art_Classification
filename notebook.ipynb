{
  "cells": [
    {
      "cell_type": "markdown",
      "metadata": {
        "id": "O_neyhh-zZw6"
      },
      "source": [
        "# Art Classification with Deep Convolutional Neural Networks"
      ]
    },
    {
      "cell_type": "code",
      "execution_count": 78,
      "metadata": {
        "id": "6HV8zIiEzZxG"
      },
      "outputs": [],
      "source": [
        "# importing necessary libraries\n",
        "\n",
        "import pandas as pd\n",
        "import numpy as np\n",
        "import matplotlib.pyplot as plt\n",
        "import seaborn as sns\n",
        "import warnings\n",
        "warnings.filterwarnings('ignore')\n",
        "import os\n",
        "import glob\n",
        "\n",
        "import tensorflow as tf\n",
        "from tensorflow import keras\n",
        "from tensorflow.keras import layers\n",
        "from tensorflow.keras.models import Sequential\n",
        "from tensorflow.keras.layers import Dense, Flatten\n",
        "from tensorflow.keras.utils import plot_model, to_categorical\n",
        "from tensorflow.keras.callbacks import EarlyStopping\n",
        "from tensorflow.keras.preprocessing.image import ImageDataGenerator\n"
      ]
    },
    {
      "cell_type": "markdown",
      "source": [
        "## Creating folder for augmented images"
      ],
      "metadata": {
        "id": "5Hm7_tlHnC0c"
      }
    },
    {
      "cell_type": "code",
      "execution_count": 79,
      "metadata": {
        "id": "6PxpDH2izZxK"
      },
      "outputs": [],
      "source": [
        "# make directories\n",
        "\n",
        "os.makedirs('/content/drive/MyDrive/Github_Projects/train_augmented', exist_ok=True)\n",
        "os.makedirs('/content/drive/MyDrive/Github_Projects/test_augmented', exist_ok=True)"
      ]
    },
    {
      "cell_type": "code",
      "execution_count": 80,
      "metadata": {
        "colab": {
          "base_uri": "https://localhost:8080/"
        },
        "id": "ZAbnrSwXzZxM",
        "outputId": "475150f0-0f48-4c52-8288-9268da4d863c"
      },
      "outputs": [
        {
          "output_type": "stream",
          "name": "stdout",
          "text": [
            "Found 628 images belonging to 2 classes.\n",
            "Found 134 images belonging to 2 classes.\n"
          ]
        }
      ],
      "source": [
        "# Creating anImageDataGenerator\n",
        "train_datagenerator = ImageDataGenerator(rescale=1./255, validation_split=0.25, zoom_range=0.2, horizontal_flip=True, vertical_flip=True, rotation_range=30, width_shift_range=0.1, height_shift_range=0.1)\n",
        "valid_datagenerator = ImageDataGenerator(rescale=1./255)\n",
        "\n",
        "# saving the augmented images in train and validation folders\n",
        "\n",
        "train_augmented = train_datagenerator.flow_from_directory(directory='/content/drive/MyDrive/Github_Projects/train', target_size=(224, 224), batch_size=32, class_mode='categorical', subset='training', shuffle=True, seed=123, color_mode='rgb', save_to_dir='/content/drive/MyDrive/Github_Projects/train_augmented',save_format='png', save_prefix='aug')\n",
        "test_augmented = valid_datagenerator.flow_from_directory(directory='/content/drive/MyDrive/Github_Projects/test', target_size=(224, 224), batch_size=32, class_mode='categorical', save_to_dir='/content/drive/MyDrive/Github_Projects/test_augmented', save_format='png', save_prefix='aug')\n"
      ]
    },
    {
      "cell_type": "code",
      "execution_count": 1,
      "metadata": {
        "colab": {
          "base_uri": "https://localhost:8080/"
        },
        "id": "f6ENXNSNzZxO",
        "outputId": "873f3046-06b1-4d4f-a934-f520852bdc0c"
      },
      "outputs": [
        {
          "output_type": "stream",
          "name": "stdout",
          "text": [
            "Downloading data from https://storage.googleapis.com/tensorflow/keras-applications/vgg19/vgg19_weights_tf_dim_ordering_tf_kernels_notop.h5\n",
            "80134624/80134624 [==============================] - 2s 0us/step\n",
            "Model: \"vgg19\"\n",
            "_________________________________________________________________\n",
            " Layer (type)                Output Shape              Param #   \n",
            "=================================================================\n",
            " input_1 (InputLayer)        [(None, 224, 224, 3)]     0         \n",
            "                                                                 \n",
            " block1_conv1 (Conv2D)       (None, 224, 224, 64)      1792      \n",
            "                                                                 \n",
            " block1_conv2 (Conv2D)       (None, 224, 224, 64)      36928     \n",
            "                                                                 \n",
            " block1_pool (MaxPooling2D)  (None, 112, 112, 64)      0         \n",
            "                                                                 \n",
            " block2_conv1 (Conv2D)       (None, 112, 112, 128)     73856     \n",
            "                                                                 \n",
            " block2_conv2 (Conv2D)       (None, 112, 112, 128)     147584    \n",
            "                                                                 \n",
            " block2_pool (MaxPooling2D)  (None, 56, 56, 128)       0         \n",
            "                                                                 \n",
            " block3_conv1 (Conv2D)       (None, 56, 56, 256)       295168    \n",
            "                                                                 \n",
            " block3_conv2 (Conv2D)       (None, 56, 56, 256)       590080    \n",
            "                                                                 \n",
            " block3_conv3 (Conv2D)       (None, 56, 56, 256)       590080    \n",
            "                                                                 \n",
            " block3_conv4 (Conv2D)       (None, 56, 56, 256)       590080    \n",
            "                                                                 \n",
            " block3_pool (MaxPooling2D)  (None, 28, 28, 256)       0         \n",
            "                                                                 \n",
            " block4_conv1 (Conv2D)       (None, 28, 28, 512)       1180160   \n",
            "                                                                 \n",
            " block4_conv2 (Conv2D)       (None, 28, 28, 512)       2359808   \n",
            "                                                                 \n",
            " block4_conv3 (Conv2D)       (None, 28, 28, 512)       2359808   \n",
            "                                                                 \n",
            " block4_conv4 (Conv2D)       (None, 28, 28, 512)       2359808   \n",
            "                                                                 \n",
            " block4_pool (MaxPooling2D)  (None, 14, 14, 512)       0         \n",
            "                                                                 \n",
            " block5_conv1 (Conv2D)       (None, 14, 14, 512)       2359808   \n",
            "                                                                 \n",
            " block5_conv2 (Conv2D)       (None, 14, 14, 512)       2359808   \n",
            "                                                                 \n",
            " block5_conv3 (Conv2D)       (None, 14, 14, 512)       2359808   \n",
            "                                                                 \n",
            " block5_conv4 (Conv2D)       (None, 14, 14, 512)       2359808   \n",
            "                                                                 \n",
            " block5_pool (MaxPooling2D)  (None, 7, 7, 512)         0         \n",
            "                                                                 \n",
            "=================================================================\n",
            "Total params: 20024384 (76.39 MB)\n",
            "Trainable params: 20024384 (76.39 MB)\n",
            "Non-trainable params: 0 (0.00 Byte)\n",
            "_________________________________________________________________\n"
          ]
        }
      ],
      "source": [
        "# importing the VGG19 model from keras\n",
        "\n",
        "from tensorflow.keras.applications import VGG19\n",
        "\n",
        "model = VGG19(weights='imagenet', include_top=False, input_shape=(224, 224, 3))\n",
        "\n",
        "model.summary()"
      ]
    },
    {
      "cell_type": "code",
      "execution_count": 82,
      "metadata": {
        "id": "wYHXjqvzzZxQ"
      },
      "outputs": [],
      "source": [
        "# not training the VGG model layers\n",
        "\n",
        "for layer in model.layers:\n",
        "    layer.trainable = False"
      ]
    },
    {
      "cell_type": "code",
      "execution_count": 83,
      "metadata": {
        "colab": {
          "base_uri": "https://localhost:8080/"
        },
        "id": "FifnnplCzZxQ",
        "outputId": "f389f4ab-0570-48b3-8e98-609b6ebd0366"
      },
      "outputs": [
        {
          "output_type": "stream",
          "name": "stdout",
          "text": [
            "Model: \"sequential_3\"\n",
            "_________________________________________________________________\n",
            " Layer (type)                Output Shape              Param #   \n",
            "=================================================================\n",
            " vgg19 (Functional)          (None, 7, 7, 512)         20024384  \n",
            "                                                                 \n",
            " flatten_3 (Flatten)         (None, 25088)             0         \n",
            "                                                                 \n",
            " dense_9 (Dense)             (None, 256)               6422784   \n",
            "                                                                 \n",
            " dense_10 (Dense)            (None, 128)               32896     \n",
            "                                                                 \n",
            " dense_11 (Dense)            (None, 2)                 258       \n",
            "                                                                 \n",
            "=================================================================\n",
            "Total params: 26480322 (101.01 MB)\n",
            "Trainable params: 6455938 (24.63 MB)\n",
            "Non-trainable params: 20024384 (76.39 MB)\n",
            "_________________________________________________________________\n"
          ]
        }
      ],
      "source": [
        "# Creating the custom model\n",
        "\n",
        "custom_model = Sequential([\n",
        "    model,\n",
        "    Flatten(),\n",
        "    Dense(256, activation='relu'),\n",
        "    Dense(128, activation='relu'),\n",
        "    Dense(2, activation='softmax')\n",
        "])\n",
        "\n",
        "custom_model.summary()\n",
        "\n",
        "custom_model.compile(optimizer='adam', loss='categorical_crossentropy', metrics=['accuracy', 'Precision', 'Recall'])"
      ]
    },
    {
      "cell_type": "code",
      "execution_count": 84,
      "metadata": {
        "id": "rWEtkMVgzZxS"
      },
      "outputs": [],
      "source": [
        "# callbacks\n",
        "\n",
        "es = EarlyStopping(monitor='val_loss', mode='min', verbose=1, patience=20)\n",
        "\n",
        "Modelcheckpoint = tf.keras.callbacks.ModelCheckpoint(filepath='/content/drive/MyDrive/Github_Projects/best_model.h5', monitor='val_loss', save_best_only=True)"
      ]
    },
    {
      "cell_type": "code",
      "execution_count": 85,
      "metadata": {
        "colab": {
          "base_uri": "https://localhost:8080/"
        },
        "id": "M7Eq0w3jzZxT",
        "outputId": "74cc2740-7c15-47fd-8755-980ca7a1e187"
      },
      "outputs": [
        {
          "output_type": "stream",
          "name": "stdout",
          "text": [
            "Epoch 1/50\n",
            "20/20 [==============================] - 57s 3s/step - loss: 1.5051 - accuracy: 0.5350 - precision: 0.5350 - recall: 0.5350 - val_loss: 0.7084 - val_accuracy: 0.6119 - val_precision: 0.6119 - val_recall: 0.6119\n",
            "Epoch 2/50\n",
            "20/20 [==============================] - 50s 3s/step - loss: 0.6528 - accuracy: 0.6513 - precision: 0.6513 - recall: 0.6513 - val_loss: 0.5213 - val_accuracy: 0.7313 - val_precision: 0.7313 - val_recall: 0.7313\n",
            "Epoch 3/50\n",
            "20/20 [==============================] - 53s 3s/step - loss: 0.5642 - accuracy: 0.7261 - precision: 0.7261 - recall: 0.7261 - val_loss: 0.4782 - val_accuracy: 0.7537 - val_precision: 0.7537 - val_recall: 0.7537\n",
            "Epoch 4/50\n",
            "20/20 [==============================] - 52s 3s/step - loss: 0.6137 - accuracy: 0.6959 - precision: 0.6959 - recall: 0.6959 - val_loss: 0.6462 - val_accuracy: 0.7388 - val_precision: 0.7388 - val_recall: 0.7388\n",
            "Epoch 5/50\n",
            "20/20 [==============================] - 53s 3s/step - loss: 0.5740 - accuracy: 0.7054 - precision: 0.7054 - recall: 0.7054 - val_loss: 1.0180 - val_accuracy: 0.5597 - val_precision: 0.5597 - val_recall: 0.5597\n",
            "Epoch 6/50\n",
            "20/20 [==============================] - 55s 3s/step - loss: 0.5092 - accuracy: 0.7580 - precision: 0.7580 - recall: 0.7580 - val_loss: 0.4586 - val_accuracy: 0.7910 - val_precision: 0.7910 - val_recall: 0.7910\n",
            "Epoch 7/50\n",
            "20/20 [==============================] - 53s 3s/step - loss: 0.4096 - accuracy: 0.8169 - precision: 0.8169 - recall: 0.8169 - val_loss: 0.4472 - val_accuracy: 0.8134 - val_precision: 0.8134 - val_recall: 0.8134\n",
            "Epoch 8/50\n",
            "20/20 [==============================] - 51s 3s/step - loss: 0.3885 - accuracy: 0.8439 - precision: 0.8439 - recall: 0.8439 - val_loss: 0.5173 - val_accuracy: 0.7761 - val_precision: 0.7761 - val_recall: 0.7761\n",
            "Epoch 9/50\n",
            "20/20 [==============================] - 50s 3s/step - loss: 0.4008 - accuracy: 0.8185 - precision: 0.8185 - recall: 0.8185 - val_loss: 0.7086 - val_accuracy: 0.6940 - val_precision: 0.6940 - val_recall: 0.6940\n",
            "Epoch 10/50\n",
            "20/20 [==============================] - 53s 3s/step - loss: 0.4218 - accuracy: 0.7930 - precision: 0.7930 - recall: 0.7930 - val_loss: 0.6770 - val_accuracy: 0.7164 - val_precision: 0.7164 - val_recall: 0.7164\n",
            "Epoch 11/50\n",
            "20/20 [==============================] - 54s 3s/step - loss: 0.3689 - accuracy: 0.8201 - precision: 0.8201 - recall: 0.8201 - val_loss: 0.5169 - val_accuracy: 0.7910 - val_precision: 0.7910 - val_recall: 0.7910\n",
            "Epoch 12/50\n",
            "20/20 [==============================] - 51s 3s/step - loss: 0.3686 - accuracy: 0.8201 - precision: 0.8201 - recall: 0.8201 - val_loss: 0.4806 - val_accuracy: 0.7836 - val_precision: 0.7836 - val_recall: 0.7836\n",
            "Epoch 13/50\n",
            "20/20 [==============================] - 53s 3s/step - loss: 0.3572 - accuracy: 0.8376 - precision: 0.8376 - recall: 0.8376 - val_loss: 0.5887 - val_accuracy: 0.7463 - val_precision: 0.7463 - val_recall: 0.7463\n",
            "Epoch 14/50\n",
            "20/20 [==============================] - 52s 3s/step - loss: 0.3463 - accuracy: 0.8503 - precision: 0.8503 - recall: 0.8503 - val_loss: 0.6311 - val_accuracy: 0.7537 - val_precision: 0.7537 - val_recall: 0.7537\n",
            "Epoch 15/50\n",
            "20/20 [==============================] - 52s 3s/step - loss: 0.3398 - accuracy: 0.8503 - precision: 0.8503 - recall: 0.8503 - val_loss: 0.8644 - val_accuracy: 0.6642 - val_precision: 0.6642 - val_recall: 0.6642\n",
            "Epoch 16/50\n",
            "20/20 [==============================] - 52s 3s/step - loss: 0.3421 - accuracy: 0.8408 - precision: 0.8408 - recall: 0.8408 - val_loss: 0.5482 - val_accuracy: 0.7836 - val_precision: 0.7836 - val_recall: 0.7836\n",
            "Epoch 17/50\n",
            "20/20 [==============================] - 53s 3s/step - loss: 0.3922 - accuracy: 0.8280 - precision: 0.8280 - recall: 0.8280 - val_loss: 0.6687 - val_accuracy: 0.7239 - val_precision: 0.7239 - val_recall: 0.7239\n",
            "Epoch 18/50\n",
            "20/20 [==============================] - 55s 3s/step - loss: 0.3664 - accuracy: 0.8264 - precision: 0.8264 - recall: 0.8264 - val_loss: 0.5549 - val_accuracy: 0.7612 - val_precision: 0.7612 - val_recall: 0.7612\n",
            "Epoch 19/50\n",
            "20/20 [==============================] - 53s 3s/step - loss: 0.3333 - accuracy: 0.8503 - precision: 0.8503 - recall: 0.8503 - val_loss: 0.5881 - val_accuracy: 0.7761 - val_precision: 0.7761 - val_recall: 0.7761\n",
            "Epoch 20/50\n",
            "20/20 [==============================] - 51s 3s/step - loss: 0.4701 - accuracy: 0.7739 - precision: 0.7739 - recall: 0.7739 - val_loss: 0.5211 - val_accuracy: 0.7910 - val_precision: 0.7910 - val_recall: 0.7910\n",
            "Epoch 21/50\n",
            "20/20 [==============================] - 50s 3s/step - loss: 0.3352 - accuracy: 0.8583 - precision: 0.8583 - recall: 0.8583 - val_loss: 0.7616 - val_accuracy: 0.6791 - val_precision: 0.6791 - val_recall: 0.6791\n",
            "Epoch 22/50\n",
            "20/20 [==============================] - 54s 3s/step - loss: 0.3402 - accuracy: 0.8424 - precision: 0.8424 - recall: 0.8424 - val_loss: 0.6215 - val_accuracy: 0.7612 - val_precision: 0.7612 - val_recall: 0.7612\n",
            "Epoch 23/50\n",
            "20/20 [==============================] - 50s 3s/step - loss: 0.3212 - accuracy: 0.8583 - precision: 0.8583 - recall: 0.8583 - val_loss: 0.6136 - val_accuracy: 0.7313 - val_precision: 0.7313 - val_recall: 0.7313\n",
            "Epoch 24/50\n",
            "20/20 [==============================] - 50s 2s/step - loss: 0.3128 - accuracy: 0.8694 - precision: 0.8694 - recall: 0.8694 - val_loss: 0.7728 - val_accuracy: 0.6866 - val_precision: 0.6866 - val_recall: 0.6866\n",
            "Epoch 25/50\n",
            "20/20 [==============================] - 51s 3s/step - loss: 0.3191 - accuracy: 0.8567 - precision: 0.8567 - recall: 0.8567 - val_loss: 0.8453 - val_accuracy: 0.7164 - val_precision: 0.7164 - val_recall: 0.7164\n",
            "Epoch 26/50\n",
            "20/20 [==============================] - 53s 3s/step - loss: 0.2881 - accuracy: 0.8694 - precision: 0.8694 - recall: 0.8694 - val_loss: 0.5878 - val_accuracy: 0.7910 - val_precision: 0.7910 - val_recall: 0.7910\n",
            "Epoch 27/50\n",
            "20/20 [==============================] - 51s 3s/step - loss: 0.2875 - accuracy: 0.8854 - precision: 0.8854 - recall: 0.8854 - val_loss: 0.5646 - val_accuracy: 0.7761 - val_precision: 0.7761 - val_recall: 0.7761\n",
            "Epoch 27: early stopping\n"
          ]
        }
      ],
      "source": [
        "# history of the model training\n",
        "history = custom_model.fit_generator(train_augmented, validation_data=test_augmented, epochs=50, verbose=1, callbacks=[es, Modelcheckpoint])"
      ]
    },
    {
      "cell_type": "code",
      "execution_count": 86,
      "metadata": {
        "colab": {
          "base_uri": "https://localhost:8080/"
        },
        "id": "YGsbHyvhzZxU",
        "outputId": "582b8e0e-c77d-4785-9578-a5a0e7114128"
      },
      "outputs": [
        {
          "output_type": "stream",
          "name": "stdout",
          "text": [
            "1/1 [==============================] - 0s 158ms/step\n",
            "Predicted class: Real\n"
          ]
        }
      ],
      "source": [
        "# prompt: make predictions for an image\n",
        "\n",
        "from tensorflow.keras.preprocessing import image\n",
        "import numpy as np\n",
        "\n",
        "image_path = '/content/drive/MyDrive/Github_Projects/test/Ai/robot-monitoring-dairy-farm-1200x800-1.jpg' # define the path\n",
        "img = image.load_img(image_path, target_size=(224, 224))    # load the image\n",
        "img_array = image.img_to_array(img)                      # convert the image to array\n",
        "img_batch = tf.keras.applications.vgg19.preprocess_input(img_array)   # preprocess_input\n",
        "img_batch = np.expand_dims(img_array, axis=0)     # adding 1 more dimension\n",
        "predictions = custom_model.predict(img_batch)     # making prediction\n",
        "predicted_class = np.argmax(predictions)      # getting the most probable class\n",
        "\n",
        "class_labels = list(train_augmented.class_indices.keys())  # getting the label index\n",
        "\n",
        "print(\"Predicted class:\", class_labels[predicted_class])     # printing the name\n"
      ]
    },
    {
      "cell_type": "code",
      "source": [
        "history.history.keys()"
      ],
      "metadata": {
        "colab": {
          "base_uri": "https://localhost:8080/"
        },
        "id": "21c8ItBD_oOC",
        "outputId": "f98e5f55-d94f-4dd7-b1e4-b0cb51dc3219"
      },
      "execution_count": 87,
      "outputs": [
        {
          "output_type": "execute_result",
          "data": {
            "text/plain": [
              "dict_keys(['loss', 'accuracy', 'precision', 'recall', 'val_loss', 'val_accuracy', 'val_precision', 'val_recall'])"
            ]
          },
          "metadata": {},
          "execution_count": 87
        }
      ]
    },
    {
      "cell_type": "code",
      "source": [
        "plt.plot(range(len(history.history['accuracy'])), history.history['accuracy'])\n",
        "plt.plot(range(len(history.history['accuracy'])), history.history['val_accuracy'])\n",
        "plt.title('Model Accuracy')\n",
        "plt.ylabel('Accuracy')\n",
        "plt.xlabel('Epoch')\n",
        "plt.legend(['Train', 'Validation'], loc='upper left')\n",
        "plt.show()"
      ],
      "metadata": {
        "colab": {
          "base_uri": "https://localhost:8080/",
          "height": 472
        },
        "id": "xUZjRaRDD-Du",
        "outputId": "7e3dfb26-e108-4b15-b93f-0939473ab9bd"
      },
      "execution_count": 88,
      "outputs": [
        {
          "output_type": "display_data",
          "data": {
            "text/plain": [
              "<Figure size 640x480 with 1 Axes>"
            ],
            "image/png": "[encoded data removed]"
          },
          "metadata": {}
        }
      ]
    },
    {
      "cell_type": "code",
      "source": [
        "plt.plot(range(len(history.history['loss'])), history.history['loss'])\n",
        "plt.plot(range(len(history.history['val_loss'])), history.history['val_loss'])\n",
        "plt.title('Model Loss')\n",
        "plt.ylabel('Loss')\n",
        "plt.xlabel('Epoch')\n",
        "plt.legend(['Train', 'Validation'], loc='upper left')\n",
        "plt.show()"
      ],
      "metadata": {
        "id": "JtOMNWRzECh4"
      },
      "execution_count": null,
      "outputs": []
    },
    {
      "cell_type": "code",
      "source": [],
      "metadata": {
        "id": "cQZ5CjBkE4Hs"
      },
      "execution_count": null,
      "outputs": []
    }
  ],
  "metadata": {
    "kernelspec": {
      "display_name": "Python 3",
      "name": "python3"
    },
    "language_info": {
      "codemirror_mode": {
        "name": "ipython",
        "version": 3
      },
      "file_extension": ".py",
      "mimetype": "text/x-python",
      "name": "python",
      "nbconvert_exporter": "python",
      "pygments_lexer": "ipython3",
      "version": "3.9.6"
    },
    "colab": {
      "provenance": [],
      "gpuType": "T4"
    },
    "accelerator": "GPU"
  },
  "nbformat": 4,
  "nbformat_minor": 0
}